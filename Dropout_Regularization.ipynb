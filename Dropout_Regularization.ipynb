{
  "cells": [
    {
      "cell_type": "code",
      "execution_count": 34,
      "metadata": {
        "id": "c0AFLeB1vo6p"
      },
      "outputs": [],
      "source": [
        "import numpy as np\n",
        "import pandas as pd\n",
        "import matplotlib.pyplot as plt\n",
        "import seaborn as sn"
      ]
    },
    {
      "cell_type": "code",
      "execution_count": 35,
      "metadata": {
        "colab": {
          "base_uri": "https://localhost:8080/",
          "height": 279
        },
        "id": "g7bmfzjnv6w-",
        "outputId": "f787141f-4a54-4d39-d03c-a9df6efa6ba0"
      },
      "outputs": [
        {
          "data": {
            "text/html": [
              "<div>\n",
              "<style scoped>\n",
              "    .dataframe tbody tr th:only-of-type {\n",
              "        vertical-align: middle;\n",
              "    }\n",
              "\n",
              "    .dataframe tbody tr th {\n",
              "        vertical-align: top;\n",
              "    }\n",
              "\n",
              "    .dataframe thead th {\n",
              "        text-align: right;\n",
              "    }\n",
              "</style>\n",
              "<table border=\"1\" class=\"dataframe\">\n",
              "  <thead>\n",
              "    <tr style=\"text-align: right;\">\n",
              "      <th></th>\n",
              "      <th>0</th>\n",
              "      <th>1</th>\n",
              "      <th>2</th>\n",
              "      <th>3</th>\n",
              "      <th>4</th>\n",
              "      <th>5</th>\n",
              "      <th>6</th>\n",
              "      <th>7</th>\n",
              "      <th>8</th>\n",
              "      <th>9</th>\n",
              "      <th>...</th>\n",
              "      <th>51</th>\n",
              "      <th>52</th>\n",
              "      <th>53</th>\n",
              "      <th>54</th>\n",
              "      <th>55</th>\n",
              "      <th>56</th>\n",
              "      <th>57</th>\n",
              "      <th>58</th>\n",
              "      <th>59</th>\n",
              "      <th>60</th>\n",
              "    </tr>\n",
              "  </thead>\n",
              "  <tbody>\n",
              "    <tr>\n",
              "      <th>127</th>\n",
              "      <td>0.0209</td>\n",
              "      <td>0.0261</td>\n",
              "      <td>0.0120</td>\n",
              "      <td>0.0768</td>\n",
              "      <td>0.1064</td>\n",
              "      <td>0.1680</td>\n",
              "      <td>0.3016</td>\n",
              "      <td>0.3460</td>\n",
              "      <td>0.3314</td>\n",
              "      <td>0.4125</td>\n",
              "      <td>...</td>\n",
              "      <td>0.0057</td>\n",
              "      <td>0.0159</td>\n",
              "      <td>0.0085</td>\n",
              "      <td>0.0372</td>\n",
              "      <td>0.0101</td>\n",
              "      <td>0.0127</td>\n",
              "      <td>0.0288</td>\n",
              "      <td>0.0129</td>\n",
              "      <td>0.0023</td>\n",
              "      <td>0</td>\n",
              "    </tr>\n",
              "    <tr>\n",
              "      <th>76</th>\n",
              "      <td>0.0239</td>\n",
              "      <td>0.0189</td>\n",
              "      <td>0.0466</td>\n",
              "      <td>0.0440</td>\n",
              "      <td>0.0657</td>\n",
              "      <td>0.0742</td>\n",
              "      <td>0.1380</td>\n",
              "      <td>0.1099</td>\n",
              "      <td>0.1384</td>\n",
              "      <td>0.1376</td>\n",
              "      <td>...</td>\n",
              "      <td>0.0091</td>\n",
              "      <td>0.0151</td>\n",
              "      <td>0.0080</td>\n",
              "      <td>0.0018</td>\n",
              "      <td>0.0078</td>\n",
              "      <td>0.0045</td>\n",
              "      <td>0.0026</td>\n",
              "      <td>0.0036</td>\n",
              "      <td>0.0024</td>\n",
              "      <td>1</td>\n",
              "    </tr>\n",
              "    <tr>\n",
              "      <th>201</th>\n",
              "      <td>0.0335</td>\n",
              "      <td>0.0258</td>\n",
              "      <td>0.0398</td>\n",
              "      <td>0.0570</td>\n",
              "      <td>0.0529</td>\n",
              "      <td>0.1091</td>\n",
              "      <td>0.1709</td>\n",
              "      <td>0.1684</td>\n",
              "      <td>0.1865</td>\n",
              "      <td>0.2660</td>\n",
              "      <td>...</td>\n",
              "      <td>0.0120</td>\n",
              "      <td>0.0039</td>\n",
              "      <td>0.0053</td>\n",
              "      <td>0.0062</td>\n",
              "      <td>0.0046</td>\n",
              "      <td>0.0045</td>\n",
              "      <td>0.0022</td>\n",
              "      <td>0.0005</td>\n",
              "      <td>0.0031</td>\n",
              "      <td>0</td>\n",
              "    </tr>\n",
              "    <tr>\n",
              "      <th>180</th>\n",
              "      <td>0.0310</td>\n",
              "      <td>0.0221</td>\n",
              "      <td>0.0433</td>\n",
              "      <td>0.0191</td>\n",
              "      <td>0.0964</td>\n",
              "      <td>0.1827</td>\n",
              "      <td>0.1106</td>\n",
              "      <td>0.1702</td>\n",
              "      <td>0.2804</td>\n",
              "      <td>0.4432</td>\n",
              "      <td>...</td>\n",
              "      <td>0.0204</td>\n",
              "      <td>0.0059</td>\n",
              "      <td>0.0053</td>\n",
              "      <td>0.0079</td>\n",
              "      <td>0.0037</td>\n",
              "      <td>0.0015</td>\n",
              "      <td>0.0056</td>\n",
              "      <td>0.0067</td>\n",
              "      <td>0.0054</td>\n",
              "      <td>0</td>\n",
              "    </tr>\n",
              "    <tr>\n",
              "      <th>90</th>\n",
              "      <td>0.0126</td>\n",
              "      <td>0.0519</td>\n",
              "      <td>0.0621</td>\n",
              "      <td>0.0518</td>\n",
              "      <td>0.1072</td>\n",
              "      <td>0.2587</td>\n",
              "      <td>0.2304</td>\n",
              "      <td>0.2067</td>\n",
              "      <td>0.3416</td>\n",
              "      <td>0.4284</td>\n",
              "      <td>...</td>\n",
              "      <td>0.0208</td>\n",
              "      <td>0.0048</td>\n",
              "      <td>0.0199</td>\n",
              "      <td>0.0126</td>\n",
              "      <td>0.0022</td>\n",
              "      <td>0.0037</td>\n",
              "      <td>0.0034</td>\n",
              "      <td>0.0114</td>\n",
              "      <td>0.0077</td>\n",
              "      <td>1</td>\n",
              "    </tr>\n",
              "  </tbody>\n",
              "</table>\n",
              "<p>5 rows × 61 columns</p>\n",
              "</div>"
            ],
            "text/plain": [
              "         0       1       2       3       4       5       6       7       8   \\\n",
              "127  0.0209  0.0261  0.0120  0.0768  0.1064  0.1680  0.3016  0.3460  0.3314   \n",
              "76   0.0239  0.0189  0.0466  0.0440  0.0657  0.0742  0.1380  0.1099  0.1384   \n",
              "201  0.0335  0.0258  0.0398  0.0570  0.0529  0.1091  0.1709  0.1684  0.1865   \n",
              "180  0.0310  0.0221  0.0433  0.0191  0.0964  0.1827  0.1106  0.1702  0.2804   \n",
              "90   0.0126  0.0519  0.0621  0.0518  0.1072  0.2587  0.2304  0.2067  0.3416   \n",
              "\n",
              "         9   ...      51      52      53      54      55      56      57  \\\n",
              "127  0.4125  ...  0.0057  0.0159  0.0085  0.0372  0.0101  0.0127  0.0288   \n",
              "76   0.1376  ...  0.0091  0.0151  0.0080  0.0018  0.0078  0.0045  0.0026   \n",
              "201  0.2660  ...  0.0120  0.0039  0.0053  0.0062  0.0046  0.0045  0.0022   \n",
              "180  0.4432  ...  0.0204  0.0059  0.0053  0.0079  0.0037  0.0015  0.0056   \n",
              "90   0.4284  ...  0.0208  0.0048  0.0199  0.0126  0.0022  0.0037  0.0034   \n",
              "\n",
              "         58      59  60  \n",
              "127  0.0129  0.0023   0  \n",
              "76   0.0036  0.0024   1  \n",
              "201  0.0005  0.0031   0  \n",
              "180  0.0067  0.0054   0  \n",
              "90   0.0114  0.0077   1  \n",
              "\n",
              "[5 rows x 61 columns]"
            ]
          },
          "execution_count": 35,
          "metadata": {},
          "output_type": "execute_result"
        }
      ],
      "source": [
        "import warnings\n",
        "warnings.filterwarnings('ignore')\n",
        "\n",
        "df = pd.read_csv(\"Sonar.csv\", header = None)\n",
        "df.sample(5)"
      ]
    },
    {
      "cell_type": "code",
      "execution_count": 36,
      "metadata": {
        "colab": {
          "base_uri": "https://localhost:8080/"
        },
        "id": "cB8zkSOFxySd",
        "outputId": "49812e00-60d7-4f93-d2d3-e0093699b68c"
      },
      "outputs": [
        {
          "data": {
            "text/plain": [
              "(208, 61)"
            ]
          },
          "execution_count": 36,
          "metadata": {},
          "output_type": "execute_result"
        }
      ],
      "source": [
        "df.shape"
      ]
    },
    {
      "cell_type": "code",
      "execution_count": 37,
      "metadata": {
        "colab": {
          "base_uri": "https://localhost:8080/"
        },
        "id": "vqjRypvox0NL",
        "outputId": "322ede0b-99df-4c21-9967-48ec4495742e"
      },
      "outputs": [
        {
          "data": {
            "text/plain": [
              "0     0\n",
              "1     0\n",
              "2     0\n",
              "3     0\n",
              "4     0\n",
              "     ..\n",
              "56    0\n",
              "57    0\n",
              "58    0\n",
              "59    0\n",
              "60    0\n",
              "Length: 61, dtype: int64"
            ]
          },
          "execution_count": 37,
          "metadata": {},
          "output_type": "execute_result"
        }
      ],
      "source": [
        "df.isna().sum()"
      ]
    },
    {
      "cell_type": "code",
      "execution_count": 38,
      "metadata": {
        "colab": {
          "base_uri": "https://localhost:8080/"
        },
        "id": "ghchPG_zyAK5",
        "outputId": "150f5eb9-4848-43c8-b24c-226b72063cf2"
      },
      "outputs": [
        {
          "data": {
            "text/plain": [
              "Index([ 0,  1,  2,  3,  4,  5,  6,  7,  8,  9, 10, 11, 12, 13, 14, 15, 16, 17,\n",
              "       18, 19, 20, 21, 22, 23, 24, 25, 26, 27, 28, 29, 30, 31, 32, 33, 34, 35,\n",
              "       36, 37, 38, 39, 40, 41, 42, 43, 44, 45, 46, 47, 48, 49, 50, 51, 52, 53,\n",
              "       54, 55, 56, 57, 58, 59, 60],\n",
              "      dtype='int64')"
            ]
          },
          "execution_count": 38,
          "metadata": {},
          "output_type": "execute_result"
        }
      ],
      "source": [
        "df.columns"
      ]
    },
    {
      "cell_type": "code",
      "execution_count": 39,
      "metadata": {
        "colab": {
          "base_uri": "https://localhost:8080/"
        },
        "id": "-FDbd3pLyPvj",
        "outputId": "a10bd773-f9fe-400b-b4b8-6d79a629853c"
      },
      "outputs": [
        {
          "data": {
            "text/plain": [
              "60\n",
              "0    111\n",
              "1     97\n",
              "Name: count, dtype: int64"
            ]
          },
          "execution_count": 39,
          "metadata": {},
          "output_type": "execute_result"
        }
      ],
      "source": [
        "df[60].value_counts()"
      ]
    },
    {
      "cell_type": "code",
      "execution_count": 40,
      "metadata": {
        "colab": {
          "base_uri": "https://localhost:8080/"
        },
        "id": "opsEthjPyjXI",
        "outputId": "e0c20413-5a91-4342-95ee-7f50581151ab"
      },
      "outputs": [
        {
          "data": {
            "text/plain": [
              "0    1\n",
              "1    1\n",
              "2    1\n",
              "3    1\n",
              "4    1\n",
              "Name: 60, dtype: int64"
            ]
          },
          "execution_count": 40,
          "metadata": {},
          "output_type": "execute_result"
        }
      ],
      "source": [
        "X = df.drop(60, axis=1)\n",
        "y = df[60]\n",
        "y.head()"
      ]
    },
    {
      "cell_type": "code",
      "execution_count": 41,
      "metadata": {
        "colab": {
          "base_uri": "https://localhost:8080/"
        },
        "id": "TzwUfl3JzSXH",
        "outputId": "dc86d772-1256-4bb0-855e-82e7f5811378"
      },
      "outputs": [
        {
          "data": {
            "text/plain": [
              "60\n",
              "0    111\n",
              "1     97\n",
              "Name: count, dtype: int64"
            ]
          },
          "execution_count": 41,
          "metadata": {},
          "output_type": "execute_result"
        }
      ],
      "source": [
        "y.value_counts()"
      ]
    },
    {
      "cell_type": "code",
      "execution_count": 42,
      "metadata": {
        "id": "PF-gyfQEzapF"
      },
      "outputs": [],
      "source": [
        "from sklearn.model_selection import train_test_split\n",
        "X_train, X_test, y_train, y_test = train_test_split(X,y, test_size=0.25, random_state=0)"
      ]
    },
    {
      "cell_type": "code",
      "execution_count": 43,
      "metadata": {
        "colab": {
          "base_uri": "https://localhost:8080/"
        },
        "id": "8_B5bDq7z1DG",
        "outputId": "c4880aad-22d2-418c-94e3-a4cfeeddd82a"
      },
      "outputs": [
        {
          "data": {
            "text/plain": [
              "((156, 60), (52, 60))"
            ]
          },
          "execution_count": 43,
          "metadata": {},
          "output_type": "execute_result"
        }
      ],
      "source": [
        "X_train.shape, X_test.shape"
      ]
    },
    {
      "cell_type": "code",
      "execution_count": 44,
      "metadata": {},
      "outputs": [
        {
          "data": {
            "image/png": "[encoded data removed]",
            "text/plain": [
              "<Figure size 300x300 with 1 Axes>"
            ]
          },
          "metadata": {},
          "output_type": "display_data"
        }
      ],
      "source": [
        "x = np.linspace(-10, 10, 1000)\n",
        "y = np.maximum(0, x)\n",
        "\n",
        "plt.figure(figsize=(3, 3))\n",
        "plt.plot(x, y)\n",
        "plt.legend(['Relu'])\n",
        "plt.show()"
      ]
    },
    {
      "cell_type": "code",
      "execution_count": 45,
      "metadata": {
        "id": "r_1-EFrpz9DN"
      },
      "outputs": [],
      "source": [
        "import tensorflow as tf\n",
        "from tensorflow import keras "
      ]
    },
    {
      "cell_type": "code",
      "execution_count": 46,
      "metadata": {
        "colab": {
          "base_uri": "https://localhost:8080/"
        },
        "id": "NEs7RkO_0Etw",
        "outputId": "c03ba388-5df4-42c0-8e86-5c2cadf9e3dd"
      },
      "outputs": [
        {
          "name": "stdout",
          "output_type": "stream",
          "text": [
            "Epoch 1/100\n",
            "20/20 [==============================] - 0s 742us/step - loss: 0.6852 - accuracy: 0.5256\n",
            "Epoch 2/100\n",
            "20/20 [==============================] - 0s 864us/step - loss: 0.6516 - accuracy: 0.5449\n",
            "Epoch 3/100\n",
            "20/20 [==============================] - 0s 946us/step - loss: 0.6308 - accuracy: 0.7051\n",
            "Epoch 4/100\n",
            "20/20 [==============================] - 0s 842us/step - loss: 0.6004 - accuracy: 0.7436\n",
            "Epoch 5/100\n",
            "20/20 [==============================] - 0s 809us/step - loss: 0.5660 - accuracy: 0.7179\n",
            "Epoch 6/100\n",
            "20/20 [==============================] - 0s 933us/step - loss: 0.5300 - accuracy: 0.7885\n",
            "Epoch 7/100\n",
            "20/20 [==============================] - 0s 930us/step - loss: 0.5169 - accuracy: 0.7564\n",
            "Epoch 8/100\n",
            "20/20 [==============================] - 0s 892us/step - loss: 0.4714 - accuracy: 0.8077\n",
            "Epoch 9/100\n",
            "20/20 [==============================] - 0s 867us/step - loss: 0.4522 - accuracy: 0.8269\n",
            "Epoch 10/100\n",
            "20/20 [==============================] - 0s 836us/step - loss: 0.4274 - accuracy: 0.8333\n",
            "Epoch 11/100\n",
            "20/20 [==============================] - 0s 931us/step - loss: 0.4058 - accuracy: 0.8333\n",
            "Epoch 12/100\n",
            "20/20 [==============================] - 0s 930us/step - loss: 0.3847 - accuracy: 0.8462\n",
            "Epoch 13/100\n",
            "20/20 [==============================] - 0s 825us/step - loss: 0.3750 - accuracy: 0.8462\n",
            "Epoch 14/100\n",
            "20/20 [==============================] - 0s 898us/step - loss: 0.3520 - accuracy: 0.8782\n",
            "Epoch 15/100\n",
            "20/20 [==============================] - 0s 875us/step - loss: 0.3698 - accuracy: 0.8590\n",
            "Epoch 16/100\n",
            "20/20 [==============================] - 0s 881us/step - loss: 0.3447 - accuracy: 0.8462\n",
            "Epoch 17/100\n",
            "20/20 [==============================] - 0s 890us/step - loss: 0.3229 - accuracy: 0.8590\n",
            "Epoch 18/100\n",
            "20/20 [==============================] - 0s 854us/step - loss: 0.3118 - accuracy: 0.8526\n",
            "Epoch 19/100\n",
            "20/20 [==============================] - 0s 899us/step - loss: 0.3057 - accuracy: 0.8782\n",
            "Epoch 20/100\n",
            "20/20 [==============================] - 0s 899us/step - loss: 0.3102 - accuracy: 0.8718\n",
            "Epoch 21/100\n",
            "20/20 [==============================] - 0s 871us/step - loss: 0.2761 - accuracy: 0.8782\n",
            "Epoch 22/100\n",
            "20/20 [==============================] - 0s 870us/step - loss: 0.2713 - accuracy: 0.9038\n",
            "Epoch 23/100\n",
            "20/20 [==============================] - 0s 950us/step - loss: 0.2831 - accuracy: 0.8590\n",
            "Epoch 24/100\n",
            "20/20 [==============================] - 0s 894us/step - loss: 0.2479 - accuracy: 0.8974\n",
            "Epoch 25/100\n",
            "20/20 [==============================] - 0s 924us/step - loss: 0.2624 - accuracy: 0.8846\n",
            "Epoch 26/100\n",
            "20/20 [==============================] - 0s 891us/step - loss: 0.2315 - accuracy: 0.9167\n",
            "Epoch 27/100\n",
            "20/20 [==============================] - 0s 846us/step - loss: 0.2449 - accuracy: 0.8974\n",
            "Epoch 28/100\n",
            "20/20 [==============================] - 0s 917us/step - loss: 0.2201 - accuracy: 0.8974\n",
            "Epoch 29/100\n",
            "20/20 [==============================] - 0s 906us/step - loss: 0.2174 - accuracy: 0.9103\n",
            "Epoch 30/100\n",
            "20/20 [==============================] - 0s 881us/step - loss: 0.1864 - accuracy: 0.9359\n",
            "Epoch 31/100\n",
            "20/20 [==============================] - 0s 937us/step - loss: 0.1663 - accuracy: 0.9359\n",
            "Epoch 32/100\n",
            "20/20 [==============================] - 0s 875us/step - loss: 0.1660 - accuracy: 0.9423\n",
            "Epoch 33/100\n",
            "20/20 [==============================] - 0s 840us/step - loss: 0.1543 - accuracy: 0.9487\n",
            "Epoch 34/100\n",
            "20/20 [==============================] - 0s 874us/step - loss: 0.1537 - accuracy: 0.9679\n",
            "Epoch 35/100\n",
            "20/20 [==============================] - 0s 821us/step - loss: 0.1328 - accuracy: 0.9551\n",
            "Epoch 36/100\n",
            "20/20 [==============================] - 0s 879us/step - loss: 0.1263 - accuracy: 0.9615\n",
            "Epoch 37/100\n",
            "20/20 [==============================] - 0s 856us/step - loss: 0.1423 - accuracy: 0.9295\n",
            "Epoch 38/100\n",
            "20/20 [==============================] - 0s 899us/step - loss: 0.1166 - accuracy: 0.9679\n",
            "Epoch 39/100\n",
            "20/20 [==============================] - 0s 871us/step - loss: 0.0982 - accuracy: 0.9744\n",
            "Epoch 40/100\n",
            "20/20 [==============================] - 0s 890us/step - loss: 0.1004 - accuracy: 0.9808\n",
            "Epoch 41/100\n",
            "20/20 [==============================] - 0s 814us/step - loss: 0.0865 - accuracy: 0.9872\n",
            "Epoch 42/100\n",
            "20/20 [==============================] - 0s 939us/step - loss: 0.0767 - accuracy: 0.9936\n",
            "Epoch 43/100\n",
            "20/20 [==============================] - 0s 835us/step - loss: 0.0831 - accuracy: 0.9936\n",
            "Epoch 44/100\n",
            "20/20 [==============================] - 0s 884us/step - loss: 0.0698 - accuracy: 0.9936\n",
            "Epoch 45/100\n",
            "20/20 [==============================] - 0s 830us/step - loss: 0.0654 - accuracy: 0.9872\n",
            "Epoch 46/100\n",
            "20/20 [==============================] - 0s 845us/step - loss: 0.0713 - accuracy: 0.9936\n",
            "Epoch 47/100\n",
            "20/20 [==============================] - 0s 902us/step - loss: 0.0651 - accuracy: 0.9808\n",
            "Epoch 48/100\n",
            "20/20 [==============================] - 0s 870us/step - loss: 0.0665 - accuracy: 0.9936\n",
            "Epoch 49/100\n",
            "20/20 [==============================] - 0s 869us/step - loss: 0.0595 - accuracy: 0.9808\n",
            "Epoch 50/100\n",
            "20/20 [==============================] - 0s 879us/step - loss: 0.0417 - accuracy: 1.0000\n",
            "Epoch 51/100\n",
            "20/20 [==============================] - 0s 798us/step - loss: 0.0413 - accuracy: 1.0000\n",
            "Epoch 52/100\n",
            "20/20 [==============================] - 0s 869us/step - loss: 0.0314 - accuracy: 1.0000\n",
            "Epoch 53/100\n",
            "20/20 [==============================] - 0s 848us/step - loss: 0.0268 - accuracy: 1.0000\n",
            "Epoch 54/100\n",
            "20/20 [==============================] - 0s 846us/step - loss: 0.0264 - accuracy: 1.0000\n",
            "Epoch 55/100\n",
            "20/20 [==============================] - 0s 830us/step - loss: 0.0260 - accuracy: 1.0000\n",
            "Epoch 56/100\n",
            "20/20 [==============================] - 0s 854us/step - loss: 0.0221 - accuracy: 1.0000\n",
            "Epoch 57/100\n",
            "20/20 [==============================] - 0s 896us/step - loss: 0.0212 - accuracy: 1.0000\n",
            "Epoch 58/100\n",
            "20/20 [==============================] - 0s 827us/step - loss: 0.0194 - accuracy: 1.0000\n",
            "Epoch 59/100\n",
            "20/20 [==============================] - 0s 860us/step - loss: 0.0188 - accuracy: 1.0000\n",
            "Epoch 60/100\n",
            "20/20 [==============================] - 0s 817us/step - loss: 0.0187 - accuracy: 1.0000\n",
            "Epoch 61/100\n",
            "20/20 [==============================] - 0s 857us/step - loss: 0.0174 - accuracy: 1.0000\n",
            "Epoch 62/100\n",
            "20/20 [==============================] - 0s 873us/step - loss: 0.0171 - accuracy: 1.0000\n",
            "Epoch 63/100\n",
            "20/20 [==============================] - 0s 862us/step - loss: 0.0133 - accuracy: 1.0000\n",
            "Epoch 64/100\n",
            "20/20 [==============================] - 0s 878us/step - loss: 0.0134 - accuracy: 1.0000\n",
            "Epoch 65/100\n",
            "20/20 [==============================] - 0s 824us/step - loss: 0.0114 - accuracy: 1.0000\n",
            "Epoch 66/100\n",
            "20/20 [==============================] - 0s 844us/step - loss: 0.0106 - accuracy: 1.0000\n",
            "Epoch 67/100\n",
            "20/20 [==============================] - 0s 903us/step - loss: 0.0096 - accuracy: 1.0000\n",
            "Epoch 68/100\n",
            "20/20 [==============================] - 0s 882us/step - loss: 0.0096 - accuracy: 1.0000\n",
            "Epoch 69/100\n",
            "20/20 [==============================] - 0s 845us/step - loss: 0.0102 - accuracy: 1.0000\n",
            "Epoch 70/100\n",
            "20/20 [==============================] - 0s 869us/step - loss: 0.0084 - accuracy: 1.0000\n",
            "Epoch 71/100\n",
            "20/20 [==============================] - 0s 882us/step - loss: 0.0078 - accuracy: 1.0000\n",
            "Epoch 72/100\n",
            "20/20 [==============================] - 0s 922us/step - loss: 0.0078 - accuracy: 1.0000\n",
            "Epoch 73/100\n",
            "20/20 [==============================] - 0s 814us/step - loss: 0.0066 - accuracy: 1.0000\n",
            "Epoch 74/100\n",
            "20/20 [==============================] - 0s 1ms/step - loss: 0.0067 - accuracy: 1.0000\n",
            "Epoch 75/100\n",
            "20/20 [==============================] - 0s 1ms/step - loss: 0.0109 - accuracy: 1.0000\n",
            "Epoch 76/100\n",
            "20/20 [==============================] - 0s 807us/step - loss: 0.0066 - accuracy: 1.0000\n",
            "Epoch 77/100\n",
            "20/20 [==============================] - 0s 875us/step - loss: 0.0064 - accuracy: 1.0000\n",
            "Epoch 78/100\n",
            "20/20 [==============================] - 0s 589us/step - loss: 0.0054 - accuracy: 1.0000\n",
            "Epoch 79/100\n",
            "20/20 [==============================] - 0s 1ms/step - loss: 0.0050 - accuracy: 1.0000\n",
            "Epoch 80/100\n",
            "20/20 [==============================] - 0s 1ms/step - loss: 0.0046 - accuracy: 1.0000\n",
            "Epoch 81/100\n",
            "20/20 [==============================] - 0s 869us/step - loss: 0.0045 - accuracy: 1.0000\n",
            "Epoch 82/100\n",
            "20/20 [==============================] - 0s 894us/step - loss: 0.0041 - accuracy: 1.0000\n",
            "Epoch 83/100\n",
            "20/20 [==============================] - 0s 835us/step - loss: 0.0041 - accuracy: 1.0000\n",
            "Epoch 84/100\n",
            "20/20 [==============================] - 0s 895us/step - loss: 0.0039 - accuracy: 1.0000\n",
            "Epoch 85/100\n",
            "20/20 [==============================] - 0s 863us/step - loss: 0.0037 - accuracy: 1.0000\n",
            "Epoch 86/100\n",
            "20/20 [==============================] - 0s 854us/step - loss: 0.0040 - accuracy: 1.0000\n",
            "Epoch 87/100\n",
            "20/20 [==============================] - 0s 826us/step - loss: 0.0037 - accuracy: 1.0000\n",
            "Epoch 88/100\n",
            "20/20 [==============================] - 0s 827us/step - loss: 0.0039 - accuracy: 1.0000\n",
            "Epoch 89/100\n",
            "20/20 [==============================] - 0s 826us/step - loss: 0.0037 - accuracy: 1.0000\n",
            "Epoch 90/100\n",
            "20/20 [==============================] - 0s 820us/step - loss: 0.0035 - accuracy: 1.0000\n",
            "Epoch 91/100\n",
            "20/20 [==============================] - 0s 875us/step - loss: 0.0031 - accuracy: 1.0000\n",
            "Epoch 92/100\n",
            "20/20 [==============================] - 0s 879us/step - loss: 0.0029 - accuracy: 1.0000\n",
            "Epoch 93/100\n",
            "20/20 [==============================] - 0s 973us/step - loss: 0.0027 - accuracy: 1.0000\n",
            "Epoch 94/100\n",
            "20/20 [==============================] - 0s 824us/step - loss: 0.0025 - accuracy: 1.0000\n",
            "Epoch 95/100\n",
            "20/20 [==============================] - 0s 871us/step - loss: 0.0026 - accuracy: 1.0000\n",
            "Epoch 96/100\n",
            "20/20 [==============================] - 0s 857us/step - loss: 0.0025 - accuracy: 1.0000\n",
            "Epoch 97/100\n",
            "20/20 [==============================] - 0s 847us/step - loss: 0.0023 - accuracy: 1.0000\n",
            "Epoch 98/100\n",
            "20/20 [==============================] - 0s 900us/step - loss: 0.0023 - accuracy: 1.0000\n",
            "Epoch 99/100\n",
            "20/20 [==============================] - 0s 870us/step - loss: 0.0023 - accuracy: 1.0000\n",
            "Epoch 100/100\n",
            "20/20 [==============================] - 0s 843us/step - loss: 0.0021 - accuracy: 1.0000\n"
          ]
        },
        {
          "data": {
            "text/plain": [
              "<keras.callbacks.History at 0x235dcd956f0>"
            ]
          },
          "execution_count": 46,
          "metadata": {},
          "output_type": "execute_result"
        }
      ],
      "source": [
        "model = keras.Sequential([\n",
        "    keras.layers.Dense(60, input_dim=60, activation='relu'),\n",
        "    keras.layers.Dense(30, activation='relu'),\n",
        "    keras.layers.Dense(15, activation='relu'),\n",
        "    keras.layers.Dense(1, activation='sigmoid')\n",
        "])\n",
        "\n",
        "model.compile(loss='binary_crossentropy',\n",
        "              optimizer='adam',\n",
        "              metrics=['accuracy'])\n",
        "\n",
        "model.fit(X_train, y_train, epochs=100, batch_size=8)"
      ]
    },
    {
      "cell_type": "code",
      "execution_count": 47,
      "metadata": {
        "colab": {
          "base_uri": "https://localhost:8080/"
        },
        "id": "A2rN1NnO1lcY",
        "outputId": "8667857b-4a24-4b3c-b52f-c3253c22beb8"
      },
      "outputs": [
        {
          "name": "stdout",
          "output_type": "stream",
          "text": [
            "2/2 [==============================] - 0s 2ms/step - loss: 0.7854 - accuracy: 0.8077\n"
          ]
        },
        {
          "data": {
            "text/plain": [
              "[0.7854134440422058, 0.807692289352417]"
            ]
          },
          "execution_count": 47,
          "metadata": {},
          "output_type": "execute_result"
        }
      ],
      "source": [
        "model.evaluate(X_test, y_test)"
      ]
    },
    {
      "cell_type": "code",
      "execution_count": 48,
      "metadata": {
        "colab": {
          "base_uri": "https://localhost:8080/"
        },
        "id": "AiwWV0SW2Mgm",
        "outputId": "9fa697da-02b6-4eb9-80c3-c621a7d6e54a"
      },
      "outputs": [
        {
          "name": "stdout",
          "output_type": "stream",
          "text": [
            "2/2 [==============================] - 0s 2ms/step\n",
            "[0. 1. 0. 1. 0. 1. 0. 0. 1. 0.]\n"
          ]
        }
      ],
      "source": [
        "y_pred = model.predict(X_test).reshape(-1)\n",
        "y_pred = np.round(y_pred)\n",
        "print(y_pred[:10])"
      ]
    },
    {
      "cell_type": "code",
      "execution_count": 49,
      "metadata": {
        "colab": {
          "base_uri": "https://localhost:8080/",
          "height": 363
        },
        "id": "qG55HVuW2cbz",
        "outputId": "3d425836-4ea6-4e6c-e7e5-39ca33a6442d"
      },
      "outputs": [
        {
          "data": {
            "text/plain": [
              "12     1\n",
              "80     1\n",
              "33     1\n",
              "5      1\n",
              "187    0\n",
              "83     1\n",
              "116    0\n",
              "122    0\n",
              "90     1\n",
              "154    0\n",
              "Name: 60, dtype: int64"
            ]
          },
          "execution_count": 49,
          "metadata": {},
          "output_type": "execute_result"
        }
      ],
      "source": [
        "y_test[:10]"
      ]
    },
    {
      "cell_type": "code",
      "execution_count": 50,
      "metadata": {
        "colab": {
          "base_uri": "https://localhost:8080/"
        },
        "id": "M5jDFdQf2puu",
        "outputId": "9af37798-65d5-41e8-d9ca-6b5722bbaf4a"
      },
      "outputs": [
        {
          "name": "stdout",
          "output_type": "stream",
          "text": [
            "              precision    recall  f1-score   support\n",
            "\n",
            "           0       0.77      0.88      0.82        26\n",
            "           1       0.86      0.73      0.79        26\n",
            "\n",
            "    accuracy                           0.81        52\n",
            "   macro avg       0.82      0.81      0.81        52\n",
            "weighted avg       0.82      0.81      0.81        52\n",
            "\n"
          ]
        }
      ],
      "source": [
        "from sklearn.metrics import confusion_matrix, classification_report\n",
        "\n",
        "print(classification_report(y_test, y_pred))"
      ]
    },
    {
      "cell_type": "code",
      "execution_count": 51,
      "metadata": {
        "colab": {
          "base_uri": "https://localhost:8080/"
        },
        "id": "JuTqjsOK9ffj",
        "outputId": "e4546fb5-8dd3-4076-b30e-f113f80bbadc"
      },
      "outputs": [
        {
          "name": "stdout",
          "output_type": "stream",
          "text": [
            "Epoch 1/100\n",
            "20/20 [==============================] - 0s 896us/step - loss: 0.7489 - accuracy: 0.5000\n",
            "Epoch 2/100\n",
            "20/20 [==============================] - 0s 860us/step - loss: 0.7504 - accuracy: 0.4808\n",
            "Epoch 3/100\n",
            "20/20 [==============================] - 0s 875us/step - loss: 0.6920 - accuracy: 0.5769\n",
            "Epoch 4/100\n",
            "20/20 [==============================] - 0s 851us/step - loss: 0.7321 - accuracy: 0.4808\n",
            "Epoch 5/100\n",
            "20/20 [==============================] - 0s 834us/step - loss: 0.7162 - accuracy: 0.5064\n",
            "Epoch 6/100\n",
            "20/20 [==============================] - 0s 906us/step - loss: 0.6751 - accuracy: 0.5897\n",
            "Epoch 7/100\n",
            "20/20 [==============================] - 0s 896us/step - loss: 0.7081 - accuracy: 0.5256\n",
            "Epoch 8/100\n",
            "20/20 [==============================] - 0s 845us/step - loss: 0.6865 - accuracy: 0.5192\n",
            "Epoch 9/100\n",
            "20/20 [==============================] - 0s 883us/step - loss: 0.6697 - accuracy: 0.5962\n",
            "Epoch 10/100\n",
            "20/20 [==============================] - 0s 914us/step - loss: 0.6907 - accuracy: 0.4551\n",
            "Epoch 11/100\n",
            "20/20 [==============================] - 0s 838us/step - loss: 0.7070 - accuracy: 0.4936\n",
            "Epoch 12/100\n",
            "20/20 [==============================] - 0s 927us/step - loss: 0.6683 - accuracy: 0.5833\n",
            "Epoch 13/100\n",
            "20/20 [==============================] - 0s 864us/step - loss: 0.6790 - accuracy: 0.5577\n",
            "Epoch 14/100\n",
            "20/20 [==============================] - 0s 888us/step - loss: 0.6992 - accuracy: 0.5128\n",
            "Epoch 15/100\n",
            "20/20 [==============================] - 0s 925us/step - loss: 0.6536 - accuracy: 0.5897\n",
            "Epoch 16/100\n",
            "20/20 [==============================] - 0s 910us/step - loss: 0.6932 - accuracy: 0.5513\n",
            "Epoch 17/100\n",
            "20/20 [==============================] - 0s 924us/step - loss: 0.7017 - accuracy: 0.5449\n",
            "Epoch 18/100\n",
            "20/20 [==============================] - 0s 861us/step - loss: 0.6554 - accuracy: 0.5962\n",
            "Epoch 19/100\n",
            "20/20 [==============================] - 0s 871us/step - loss: 0.6543 - accuracy: 0.6090\n",
            "Epoch 20/100\n",
            "20/20 [==============================] - 0s 896us/step - loss: 0.6610 - accuracy: 0.5833\n",
            "Epoch 21/100\n",
            "20/20 [==============================] - 0s 865us/step - loss: 0.6817 - accuracy: 0.5513\n",
            "Epoch 22/100\n",
            "20/20 [==============================] - 0s 880us/step - loss: 0.6364 - accuracy: 0.6603\n",
            "Epoch 23/100\n",
            "20/20 [==============================] - 0s 951us/step - loss: 0.6408 - accuracy: 0.6538\n",
            "Epoch 24/100\n",
            "20/20 [==============================] - 0s 884us/step - loss: 0.6717 - accuracy: 0.5833\n",
            "Epoch 25/100\n",
            "20/20 [==============================] - 0s 992us/step - loss: 0.6448 - accuracy: 0.6026\n",
            "Epoch 26/100\n",
            "20/20 [==============================] - 0s 1ms/step - loss: 0.6438 - accuracy: 0.6346\n",
            "Epoch 27/100\n",
            "20/20 [==============================] - 0s 879us/step - loss: 0.6266 - accuracy: 0.6410\n",
            "Epoch 28/100\n",
            "20/20 [==============================] - 0s 983us/step - loss: 0.5934 - accuracy: 0.7179\n",
            "Epoch 29/100\n",
            "20/20 [==============================] - 0s 900us/step - loss: 0.6014 - accuracy: 0.6154\n",
            "Epoch 30/100\n",
            "20/20 [==============================] - 0s 900us/step - loss: 0.6054 - accuracy: 0.6731\n",
            "Epoch 31/100\n",
            "20/20 [==============================] - 0s 878us/step - loss: 0.6524 - accuracy: 0.6474\n",
            "Epoch 32/100\n",
            "20/20 [==============================] - 0s 849us/step - loss: 0.6170 - accuracy: 0.5962\n",
            "Epoch 33/100\n",
            "20/20 [==============================] - 0s 876us/step - loss: 0.5770 - accuracy: 0.7051\n",
            "Epoch 34/100\n",
            "20/20 [==============================] - 0s 846us/step - loss: 0.5559 - accuracy: 0.7115\n",
            "Epoch 35/100\n",
            "20/20 [==============================] - 0s 881us/step - loss: 0.5940 - accuracy: 0.6667\n",
            "Epoch 36/100\n",
            "20/20 [==============================] - 0s 859us/step - loss: 0.6139 - accuracy: 0.6538\n",
            "Epoch 37/100\n",
            "20/20 [==============================] - 0s 893us/step - loss: 0.5854 - accuracy: 0.6667\n",
            "Epoch 38/100\n",
            "20/20 [==============================] - 0s 844us/step - loss: 0.5515 - accuracy: 0.7308\n",
            "Epoch 39/100\n",
            "20/20 [==============================] - 0s 924us/step - loss: 0.5919 - accuracy: 0.7051\n",
            "Epoch 40/100\n",
            "20/20 [==============================] - 0s 885us/step - loss: 0.5362 - accuracy: 0.7372\n",
            "Epoch 41/100\n",
            "20/20 [==============================] - 0s 949us/step - loss: 0.6163 - accuracy: 0.6474\n",
            "Epoch 42/100\n",
            "20/20 [==============================] - 0s 838us/step - loss: 0.5555 - accuracy: 0.7244\n",
            "Epoch 43/100\n",
            "20/20 [==============================] - 0s 876us/step - loss: 0.5472 - accuracy: 0.7692\n",
            "Epoch 44/100\n",
            "20/20 [==============================] - 0s 969us/step - loss: 0.5475 - accuracy: 0.6859\n",
            "Epoch 45/100\n",
            "20/20 [==============================] - 0s 953us/step - loss: 0.5354 - accuracy: 0.7564\n",
            "Epoch 46/100\n",
            "20/20 [==============================] - 0s 906us/step - loss: 0.5501 - accuracy: 0.7308\n",
            "Epoch 47/100\n",
            "20/20 [==============================] - 0s 950us/step - loss: 0.5278 - accuracy: 0.7115\n",
            "Epoch 48/100\n",
            "20/20 [==============================] - 0s 870us/step - loss: 0.5111 - accuracy: 0.8013\n",
            "Epoch 49/100\n",
            "20/20 [==============================] - 0s 922us/step - loss: 0.5195 - accuracy: 0.7628\n",
            "Epoch 50/100\n",
            "20/20 [==============================] - 0s 851us/step - loss: 0.5305 - accuracy: 0.7244\n",
            "Epoch 51/100\n",
            "20/20 [==============================] - 0s 708us/step - loss: 0.5273 - accuracy: 0.7179\n",
            "Epoch 52/100\n",
            "20/20 [==============================] - 0s 1ms/step - loss: 0.5084 - accuracy: 0.7308\n",
            "Epoch 53/100\n",
            "20/20 [==============================] - 0s 1ms/step - loss: 0.5300 - accuracy: 0.7115\n",
            "Epoch 54/100\n",
            "20/20 [==============================] - 0s 981us/step - loss: 0.4841 - accuracy: 0.7821\n",
            "Epoch 55/100\n",
            "20/20 [==============================] - 0s 981us/step - loss: 0.4648 - accuracy: 0.7628\n",
            "Epoch 56/100\n",
            "20/20 [==============================] - 0s 866us/step - loss: 0.4692 - accuracy: 0.7756\n",
            "Epoch 57/100\n",
            "20/20 [==============================] - 0s 865us/step - loss: 0.5339 - accuracy: 0.8013\n",
            "Epoch 58/100\n",
            "20/20 [==============================] - 0s 927us/step - loss: 0.4797 - accuracy: 0.8077\n",
            "Epoch 59/100\n",
            "20/20 [==============================] - 0s 884us/step - loss: 0.4438 - accuracy: 0.7821\n",
            "Epoch 60/100\n",
            "20/20 [==============================] - 0s 900us/step - loss: 0.4743 - accuracy: 0.7821\n",
            "Epoch 61/100\n",
            "20/20 [==============================] - 0s 948us/step - loss: 0.4864 - accuracy: 0.7692\n",
            "Epoch 62/100\n",
            "20/20 [==============================] - 0s 898us/step - loss: 0.4862 - accuracy: 0.7885\n",
            "Epoch 63/100\n",
            "20/20 [==============================] - 0s 903us/step - loss: 0.4266 - accuracy: 0.7949\n",
            "Epoch 64/100\n",
            "20/20 [==============================] - 0s 923us/step - loss: 0.4316 - accuracy: 0.7885\n",
            "Epoch 65/100\n",
            "20/20 [==============================] - 0s 876us/step - loss: 0.4157 - accuracy: 0.8269\n",
            "Epoch 66/100\n",
            "20/20 [==============================] - 0s 844us/step - loss: 0.4360 - accuracy: 0.8333\n",
            "Epoch 67/100\n",
            "20/20 [==============================] - 0s 909us/step - loss: 0.3918 - accuracy: 0.8462\n",
            "Epoch 68/100\n",
            "20/20 [==============================] - 0s 826us/step - loss: 0.4774 - accuracy: 0.7500\n",
            "Epoch 69/100\n",
            "20/20 [==============================] - 0s 863us/step - loss: 0.4834 - accuracy: 0.7756\n",
            "Epoch 70/100\n",
            "20/20 [==============================] - 0s 874us/step - loss: 0.3813 - accuracy: 0.8462\n",
            "Epoch 71/100\n",
            "20/20 [==============================] - 0s 876us/step - loss: 0.3296 - accuracy: 0.8462\n",
            "Epoch 72/100\n",
            "20/20 [==============================] - 0s 816us/step - loss: 0.3555 - accuracy: 0.8590\n",
            "Epoch 73/100\n",
            "20/20 [==============================] - 0s 816us/step - loss: 0.3982 - accuracy: 0.8141\n",
            "Epoch 74/100\n",
            "20/20 [==============================] - 0s 824us/step - loss: 0.3826 - accuracy: 0.8397\n",
            "Epoch 75/100\n",
            "20/20 [==============================] - 0s 870us/step - loss: 0.3900 - accuracy: 0.8333\n",
            "Epoch 76/100\n",
            "20/20 [==============================] - 0s 847us/step - loss: 0.3661 - accuracy: 0.8205\n",
            "Epoch 77/100\n",
            "20/20 [==============================] - 0s 853us/step - loss: 0.3526 - accuracy: 0.8654\n",
            "Epoch 78/100\n",
            "20/20 [==============================] - 0s 903us/step - loss: 0.3539 - accuracy: 0.8397\n",
            "Epoch 79/100\n",
            "20/20 [==============================] - 0s 862us/step - loss: 0.4333 - accuracy: 0.7821\n",
            "Epoch 80/100\n",
            "20/20 [==============================] - 0s 863us/step - loss: 0.4188 - accuracy: 0.8333\n",
            "Epoch 81/100\n",
            "20/20 [==============================] - 0s 1ms/step - loss: 0.3875 - accuracy: 0.8077\n",
            "Epoch 82/100\n",
            "20/20 [==============================] - 0s 845us/step - loss: 0.3382 - accuracy: 0.8590\n",
            "Epoch 83/100\n",
            "20/20 [==============================] - 0s 873us/step - loss: 0.3813 - accuracy: 0.8782\n",
            "Epoch 84/100\n",
            "20/20 [==============================] - 0s 908us/step - loss: 0.3997 - accuracy: 0.7885\n",
            "Epoch 85/100\n",
            "20/20 [==============================] - 0s 803us/step - loss: 0.3985 - accuracy: 0.8269\n",
            "Epoch 86/100\n",
            "20/20 [==============================] - 0s 876us/step - loss: 0.4062 - accuracy: 0.8205\n",
            "Epoch 87/100\n",
            "20/20 [==============================] - 0s 888us/step - loss: 0.3589 - accuracy: 0.8590\n",
            "Epoch 88/100\n",
            "20/20 [==============================] - 0s 884us/step - loss: 0.4072 - accuracy: 0.8013\n",
            "Epoch 89/100\n",
            "20/20 [==============================] - 0s 869us/step - loss: 0.3481 - accuracy: 0.8397\n",
            "Epoch 90/100\n",
            "20/20 [==============================] - 0s 814us/step - loss: 0.3522 - accuracy: 0.8462\n",
            "Epoch 91/100\n",
            "20/20 [==============================] - 0s 824us/step - loss: 0.4006 - accuracy: 0.7821\n",
            "Epoch 92/100\n",
            "20/20 [==============================] - 0s 856us/step - loss: 0.3436 - accuracy: 0.8910\n",
            "Epoch 93/100\n",
            "20/20 [==============================] - 0s 893us/step - loss: 0.3192 - accuracy: 0.8654\n",
            "Epoch 94/100\n",
            "20/20 [==============================] - 0s 901us/step - loss: 0.3838 - accuracy: 0.8526\n",
            "Epoch 95/100\n",
            "20/20 [==============================] - 0s 867us/step - loss: 0.3953 - accuracy: 0.8333\n",
            "Epoch 96/100\n",
            "20/20 [==============================] - 0s 932us/step - loss: 0.3116 - accuracy: 0.8718\n",
            "Epoch 97/100\n",
            "20/20 [==============================] - 0s 862us/step - loss: 0.3093 - accuracy: 0.8910\n",
            "Epoch 98/100\n",
            "20/20 [==============================] - 0s 843us/step - loss: 0.2816 - accuracy: 0.8846\n",
            "Epoch 99/100\n",
            "20/20 [==============================] - 0s 911us/step - loss: 0.2633 - accuracy: 0.9103\n",
            "Epoch 100/100\n",
            "20/20 [==============================] - 0s 843us/step - loss: 0.3266 - accuracy: 0.8590\n"
          ]
        },
        {
          "data": {
            "text/plain": [
              "<keras.callbacks.History at 0x235de014df0>"
            ]
          },
          "execution_count": 51,
          "metadata": {},
          "output_type": "execute_result"
        }
      ],
      "source": [
        "model_2 = keras.Sequential([\n",
        "    keras.layers.Dense(60, input_dim=60, activation='relu'),\n",
        "    keras.layers.Dropout(0.5),\n",
        "    keras.layers.Dense(30, activation='relu'),\n",
        "    keras.layers.Dropout(0.5),\n",
        "    keras.layers.Dense(15, activation='relu'),\n",
        "    keras.layers.Dropout(0.5),\n",
        "    keras.layers.Dense(1, activation='sigmoid')\n",
        "])\n",
        "\n",
        "model_2.compile(loss='binary_crossentropy', optimizer='adam', metrics=['accuracy'])\n",
        "\n",
        "model_2.fit(X_train, y_train, epochs=100, batch_size=8)"
      ]
    },
    {
      "cell_type": "code",
      "execution_count": 52,
      "metadata": {
        "colab": {
          "base_uri": "https://localhost:8080/"
        },
        "id": "LsL6RC0BAbAY",
        "outputId": "7852cbfd-654c-4861-e8fc-623110d82fc7"
      },
      "outputs": [
        {
          "name": "stdout",
          "output_type": "stream",
          "text": [
            "2/2 [==============================] - 0s 2ms/step - loss: 0.4218 - accuracy: 0.8269\n"
          ]
        },
        {
          "data": {
            "text/plain": [
              "[0.4217894673347473, 0.8269230723381042]"
            ]
          },
          "execution_count": 52,
          "metadata": {},
          "output_type": "execute_result"
        }
      ],
      "source": [
        "model_2.evaluate(X_test, y_test)"
      ]
    },
    {
      "cell_type": "code",
      "execution_count": 53,
      "metadata": {
        "colab": {
          "base_uri": "https://localhost:8080/"
        },
        "id": "9wDWqBHAAwPb",
        "outputId": "872a0856-4d18-4a19-960b-87517798c21e"
      },
      "outputs": [
        {
          "name": "stdout",
          "output_type": "stream",
          "text": [
            "2/2 [==============================] - 0s 2ms/step\n",
            "[0. 0. 0. 1. 0. 1. 0. 0. 1. 0.]\n"
          ]
        }
      ],
      "source": [
        "y_pred = model_2.predict(X_test).reshape(-1)\n",
        "y_pred = np.round(y_pred)\n",
        "print(y_pred[:10])"
      ]
    },
    {
      "cell_type": "code",
      "execution_count": 54,
      "metadata": {
        "colab": {
          "base_uri": "https://localhost:8080/",
          "height": 363
        },
        "id": "POFc4eapBI0x",
        "outputId": "d5871029-7d7e-475b-d6fa-3d2ed3ded7d5"
      },
      "outputs": [
        {
          "data": {
            "text/plain": [
              "12     1\n",
              "80     1\n",
              "33     1\n",
              "5      1\n",
              "187    0\n",
              "83     1\n",
              "116    0\n",
              "122    0\n",
              "90     1\n",
              "154    0\n",
              "Name: 60, dtype: int64"
            ]
          },
          "execution_count": 54,
          "metadata": {},
          "output_type": "execute_result"
        }
      ],
      "source": [
        "y_test[:10]"
      ]
    },
    {
      "cell_type": "code",
      "execution_count": 55,
      "metadata": {
        "colab": {
          "base_uri": "https://localhost:8080/"
        },
        "id": "X-o1pgS0AYln",
        "outputId": "10a3de22-498d-4cc5-ee82-4b1f0be23881"
      },
      "outputs": [
        {
          "name": "stdout",
          "output_type": "stream",
          "text": [
            "              precision    recall  f1-score   support\n",
            "\n",
            "           0       0.76      0.96      0.85        26\n",
            "           1       0.95      0.69      0.80        26\n",
            "\n",
            "    accuracy                           0.83        52\n",
            "   macro avg       0.85      0.83      0.82        52\n",
            "weighted avg       0.85      0.83      0.82        52\n",
            "\n"
          ]
        }
      ],
      "source": [
        "print(classification_report(y_test, y_pred))"
      ]
    }
  ],
  "metadata": {
    "colab": {
      "provenance": []
    },
    "kernelspec": {
      "display_name": "Python 3",
      "name": "python3"
    },
    "language_info": {
      "codemirror_mode": {
        "name": "ipython",
        "version": 3
      },
      "file_extension": ".py",
      "mimetype": "text/x-python",
      "name": "python",
      "nbconvert_exporter": "python",
      "pygments_lexer": "ipython3",
      "version": "3.10.9"
    }
  },
  "nbformat": 4,
  "nbformat_minor": 0
}
